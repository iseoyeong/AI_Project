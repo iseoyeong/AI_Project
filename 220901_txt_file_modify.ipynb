{
  "nbformat": 4,
  "nbformat_minor": 0,
  "metadata": {
    "colab": {
      "provenance": [],
      "authorship_tag": "ABX9TyN/StBV37CZURE6Ug/9cfTy",
      "include_colab_link": true
    },
    "kernelspec": {
      "name": "python3",
      "display_name": "Python 3"
    },
    "language_info": {
      "name": "python"
    }
  },
  "cells": [
    {
      "cell_type": "markdown",
      "metadata": {
        "id": "view-in-github",
        "colab_type": "text"
      },
      "source": [
        "<a href=\"https://colab.research.google.com/github/iseoyeong/AI_Project/blob/main/220901_txt_file_modify.ipynb\" target=\"_parent\"><img src=\"https://colab.research.google.com/assets/colab-badge.svg\" alt=\"Open In Colab\"/></a>"
      ]
    },
    {
      "cell_type": "code",
      "source": [
        "from google.colab import drive\n",
        "drive.mount('/content/gdrive')"
      ],
      "metadata": {
        "colab": {
          "base_uri": "https://localhost:8080/"
        },
        "id": "HYbVb4sPOc4o",
        "outputId": "26d1088c-c581-45c5-bfd0-ad99059942e9"
      },
      "execution_count": 53,
      "outputs": [
        {
          "output_type": "stream",
          "name": "stdout",
          "text": [
            "Drive already mounted at /content/gdrive; to attempt to forcibly remount, call drive.mount(\"/content/gdrive\", force_remount=True).\n"
          ]
        }
      ]
    },
    {
      "cell_type": "code",
      "execution_count": 54,
      "metadata": {
        "colab": {
          "base_uri": "https://localhost:8080/"
        },
        "id": "aO5_LbTtOPSA",
        "outputId": "2d303627-f328-44a4-d9bf-363382d84281"
      },
      "outputs": [
        {
          "output_type": "stream",
          "name": "stdout",
          "text": [
            "Looking in indexes: https://pypi.org/simple, https://us-python.pkg.dev/colab-wheels/public/simple/\n",
            "Requirement already satisfied: pandas in /usr/local/lib/python3.7/dist-packages (1.3.5)\n",
            "Requirement already satisfied: pytz>=2017.3 in /usr/local/lib/python3.7/dist-packages (from pandas) (2022.2.1)\n",
            "Requirement already satisfied: numpy>=1.17.3 in /usr/local/lib/python3.7/dist-packages (from pandas) (1.21.6)\n",
            "Requirement already satisfied: python-dateutil>=2.7.3 in /usr/local/lib/python3.7/dist-packages (from pandas) (2.8.2)\n",
            "Requirement already satisfied: six>=1.5 in /usr/local/lib/python3.7/dist-packages (from python-dateutil>=2.7.3->pandas) (1.15.0)\n"
          ]
        }
      ],
      "source": [
        "!pip install pandas"
      ]
    },
    {
      "cell_type": "code",
      "source": [
        "import pandas as pd\n",
        "import os\n",
        "import glob\n",
        "\n",
        "file_list=glob.glob('/content/gdrive/MyDrive/Project/txt_scooter/*.txt')\n",
        "file_list=sorted(file_list)\n",
        "file_list"
      ],
      "metadata": {
        "id": "2W5j-LZFOwuU"
      },
      "execution_count": null,
      "outputs": []
    },
    {
      "cell_type": "code",
      "source": [
        "temp_name = file_list\n",
        "file_names =[]\n",
        "\n",
        "for i in temp_name:\n",
        "  temp = i.replace(\"/content/gdrive/MyDrive/Project/txt_scooter/\", \"\")\n",
        "  file_names.append(temp)"
      ],
      "metadata": {
        "id": "MjxF8Dm1uccc"
      },
      "execution_count": 85,
      "outputs": []
    },
    {
      "cell_type": "code",
      "source": [
        "for file in range(len(file_list)):\n",
        "  with open(file_list[file], 'r') as f:\n",
        "    data = f.readlines()\n",
        "  column_name = ['label','xtl','ytl','xbr','ybr']\n",
        "  data_split = [x.strip().split() for x in data[:]]\n",
        "\n",
        "  df = pd.DataFrame(data_split, columns = column_name)\n",
        "\n",
        "  del df['label']\n",
        "\n",
        "  df['label'] = 'electricscooter'\n",
        "  df[['xtl','ytl','xbr','ybr']]=df[['xtl','ytl','xbr','ybr']].apply(pd.to_numeric)\n",
        "\n",
        "  df=df[['label','xtl','ytl','xbr','ybr']]\n",
        "\n",
        "  # 각 txt파일에 들어갈 컬럼들만 추출    \n",
        "  df_columns=[]\n",
        "  for i in range(len(df_txt_files)):\n",
        "      df_column=df_txt_files[i][['label','xtl','ytl','xbr','ybr']]\n",
        "      df_columns.append(df_column)\n",
        "\n",
        "\n",
        "  file_name=file_names[file].split('.')[0]\n",
        "  df.to_csv('/content/gdrive/MyDrive/Project/txt_s_result/'+file_name+'.txt', sep=' ', index=False, header=None)"
      ],
      "metadata": {
        "id": "2hwOsnBou-so"
      },
      "execution_count": 101,
      "outputs": []
    }
  ]
}